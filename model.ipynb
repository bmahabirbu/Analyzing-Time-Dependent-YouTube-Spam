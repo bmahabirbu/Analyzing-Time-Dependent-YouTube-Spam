{
  "cells": [
    {
      "cell_type": "markdown",
      "source": [
        "### Import libraries"
      ],
      "metadata": {
        "id": "GCK40rDQMT8I"
      },
      "id": "GCK40rDQMT8I"
    },
    {
      "cell_type": "code",
      "source": [
        "from google.colab import drive\n",
        "drive.mount('/content/drive')"
      ],
      "metadata": {
        "colab": {
          "base_uri": "https://localhost:8080/"
        },
        "id": "XjvgJG8qMSi5",
        "outputId": "32fe550b-ab4b-424f-92e1-28f91921fc3c"
      },
      "id": "XjvgJG8qMSi5",
      "execution_count": null,
      "outputs": [
        {
          "output_type": "stream",
          "name": "stdout",
          "text": [
            "Mounted at /content/drive\n"
          ]
        }
      ]
    },
    {
      "cell_type": "code",
      "source": [
        "!pip install emoji\n",
        "!pip install ftfy\n",
        "!python -m pip install statsmodels"
      ],
      "metadata": {
        "colab": {
          "base_uri": "https://localhost:8080/"
        },
        "id": "au9IxlskvjKM",
        "outputId": "26eb1623-b1be-42e6-8382-caaf53725967"
      },
      "id": "au9IxlskvjKM",
      "execution_count": null,
      "outputs": [
        {
          "output_type": "stream",
          "name": "stdout",
          "text": [
            "Looking in indexes: https://pypi.org/simple, https://us-python.pkg.dev/colab-wheels/public/simple/\n",
            "Requirement already satisfied: emoji in /usr/local/lib/python3.10/dist-packages (2.2.0)\n",
            "Looking in indexes: https://pypi.org/simple, https://us-python.pkg.dev/colab-wheels/public/simple/\n",
            "Requirement already satisfied: ftfy in /usr/local/lib/python3.10/dist-packages (6.1.1)\n",
            "Requirement already satisfied: wcwidth>=0.2.5 in /usr/local/lib/python3.10/dist-packages (from ftfy) (0.2.6)\n",
            "Looking in indexes: https://pypi.org/simple, https://us-python.pkg.dev/colab-wheels/public/simple/\n",
            "Requirement already satisfied: statsmodels in /usr/local/lib/python3.10/dist-packages (0.13.5)\n",
            "Requirement already satisfied: packaging>=21.3 in /usr/local/lib/python3.10/dist-packages (from statsmodels) (23.1)\n",
            "Requirement already satisfied: scipy>=1.3 in /usr/local/lib/python3.10/dist-packages (from statsmodels) (1.10.1)\n",
            "Requirement already satisfied: numpy>=1.17 in /usr/local/lib/python3.10/dist-packages (from statsmodels) (1.22.4)\n",
            "Requirement already satisfied: pandas>=0.25 in /usr/local/lib/python3.10/dist-packages (from statsmodels) (1.5.3)\n",
            "Requirement already satisfied: patsy>=0.5.2 in /usr/local/lib/python3.10/dist-packages (from statsmodels) (0.5.3)\n",
            "Requirement already satisfied: pytz>=2020.1 in /usr/local/lib/python3.10/dist-packages (from pandas>=0.25->statsmodels) (2022.7.1)\n",
            "Requirement already satisfied: python-dateutil>=2.8.1 in /usr/local/lib/python3.10/dist-packages (from pandas>=0.25->statsmodels) (2.8.2)\n",
            "Requirement already satisfied: six in /usr/local/lib/python3.10/dist-packages (from patsy>=0.5.2->statsmodels) (1.16.0)\n"
          ]
        }
      ]
    },
    {
      "cell_type": "markdown",
      "id": "559674d0-3b4d-4d40-a733-0e2914f2a35d",
      "metadata": {
        "id": "559674d0-3b4d-4d40-a733-0e2914f2a35d"
      },
      "source": [
        "## Read data"
      ]
    },
    {
      "cell_type": "code",
      "execution_count": null,
      "id": "e20b4867-a9ad-4d07-bb6d-2a442454cc66",
      "metadata": {
        "colab": {
          "base_uri": "https://localhost:8080/"
        },
        "id": "e20b4867-a9ad-4d07-bb6d-2a442454cc66",
        "outputId": "ecc121af-9448-4102-f74c-c0f8685e4757"
      },
      "outputs": [
        {
          "output_type": "stream",
          "name": "stdout",
          "text": [
            "done\n",
            "                                    COMMENT_ID            AUTHOR  \\\n",
            "0  LZQPQhLyRh80UYxNuaDWhIGQYNQ96IuCg-AYWqNPjpU         Julius NM   \n",
            "1  LZQPQhLyRh_C2cTtd9MvFRJedxydaVW-2sNg5Diuo4A       adam riyati   \n",
            "2  LZQPQhLyRh9MSZYnf8djyk0gEF9BHDPYrrK-qCczIY8  Evgeny Murashkin   \n",
            "3          z13jhp0bxqncu512g22wvzkasxmvvzjaz04   ElNino Melendez   \n",
            "4          z13fwbwp1oujthgqj04chlngpvzmtt3r3dw            GsMega   \n",
            "\n",
            "                  DATE                                            CONTENT  \\\n",
            "0  2013-11-07T06:20:48  Huh, anyway check out this you[tube] channel: ...   \n",
            "1  2013-11-07T12:37:15  Hey guys check out my new channel and our firs...   \n",
            "2  2013-11-08T17:34:21             just for test I have to say murdev.com   \n",
            "3  2013-11-09T08:28:43   me shaking my sexy ass on my channel enjoy ^_^ ﻿   \n",
            "4  2013-11-10T16:05:38            watch?v=vtaRGgvGtWQ   Check this out .﻿   \n",
            "\n",
            "   CLASS  \n",
            "0      1  \n",
            "1      1  \n",
            "2      1  \n",
            "3      1  \n",
            "4      1  \n"
          ]
        }
      ],
      "source": [
        "import pandas as pd\n",
        "from sklearn.model_selection import train_test_split\n",
        "\n",
        "data_01 = pd.read_csv(\"/content/drive/MyDrive/EC700/project/spam-data/Youtube01-Psy.csv\")\n",
        "data_02 = pd.read_csv(\"/content/drive/MyDrive/EC700/project/spam-data/Youtube02-KatyPerry.csv\")\n",
        "data_03 = pd.read_csv(\"/content/drive/MyDrive/EC700/project/spam-data/Youtube03-LMFAO.csv\")\n",
        "data_04 = pd.read_csv(\"/content/drive/MyDrive/EC700/project/spam-data/Youtube04-Eminem.csv\")\n",
        "data_05 = pd.read_csv(\"/content/drive/MyDrive/EC700/project/spam-data/Youtube05-Shakira.csv\")\n",
        "\n",
        "frames = [data_01, data_02, data_03, data_04, data_05]\n",
        "\n",
        "data = pd.concat(frames)\n",
        "\n",
        "\n",
        "print(\"done\")\n",
        "\n",
        "print(data.head())\n",
        "\n",
        "data.to_csv(\"/content/drive/MyDrive/EC700/project/spam-data/Youtube.csv\", index=False)"
      ]
    },
    {
      "cell_type": "markdown",
      "id": "82cdf0c9-ba46-472c-bafc-cd9274e60172",
      "metadata": {
        "id": "82cdf0c9-ba46-472c-bafc-cd9274e60172"
      },
      "source": [
        "## Explore features of Data"
      ]
    },
    {
      "cell_type": "code",
      "execution_count": null,
      "id": "6dd1762a-7887-40b5-a155-5a11aa5148c6",
      "metadata": {
        "colab": {
          "base_uri": "https://localhost:8080/",
          "height": 447
        },
        "id": "6dd1762a-7887-40b5-a155-5a11aa5148c6",
        "outputId": "2920e2ce-d1e5-4aa1-9c1e-effd000b8e3b"
      },
      "outputs": [
        {
          "output_type": "display_data",
          "data": {
            "text/plain": [
              "<Figure size 640x480 with 1 Axes>"
            ],
            "image/png": "[encoded data removed]"
          },
          "metadata": {}
        }
      ],
      "source": [
        "import matplotlib.pyplot as plt\n",
        "train_data = pd.read_csv(\"/content/drive/MyDrive/EC700/project/spam-data/Youtube.csv\")\n",
        "train_data['CLASS'].value_counts().plot(kind='bar', legend=True, alpha=.5)\n",
        "plt.title(\"Count of Targets\")\n",
        "plt.show()"
      ]
    },
    {
      "cell_type": "markdown",
      "id": "2be2e45c-3e5d-4efd-8a58-90d8860a06dd",
      "metadata": {
        "id": "2be2e45c-3e5d-4efd-8a58-90d8860a06dd"
      },
      "source": [
        "Pretty equal between spam and no spam"
      ]
    },
    {
      "cell_type": "code",
      "execution_count": null,
      "id": "0d132470-cf26-4f21-bf54-1c6a691c29f5",
      "metadata": {
        "colab": {
          "base_uri": "https://localhost:8080/",
          "height": 572
        },
        "id": "0d132470-cf26-4f21-bf54-1c6a691c29f5",
        "outputId": "4820a3f6-5c4e-40bc-b1c0-0464914410ce"
      },
      "outputs": [
        {
          "output_type": "stream",
          "name": "stdout",
          "text": [
            "(1956, 5)\n"
          ]
        },
        {
          "output_type": "display_data",
          "data": {
            "text/plain": [
              "<Figure size 640x480 with 1 Axes>"
            ],
            "image/png": "[encoded data removed]"
          },
          "metadata": {}
        }
      ],
      "source": [
        "print(train_data.shape)\n",
        "train_data['AUTHOR'].value_counts().nlargest(5).plot(kind='bar', legend=True, alpha=.5)\n",
        "plt.title(\"Top 5 Commentors\")\n",
        "plt.show()"
      ]
    },
    {
      "cell_type": "markdown",
      "id": "a2a0ee2d-5831-4111-9df3-9ace217420e2",
      "metadata": {
        "id": "a2a0ee2d-5831-4111-9df3-9ace217420e2"
      },
      "source": [
        "the most frequent author has only 8 comments so the spam is pretty spread out in terms of having different author names"
      ]
    },
    {
      "cell_type": "code",
      "execution_count": null,
      "id": "7dd2e170-b024-4d6d-86fd-5bafc114fbb5",
      "metadata": {
        "colab": {
          "base_uri": "https://localhost:8080/",
          "height": 521
        },
        "id": "7dd2e170-b024-4d6d-86fd-5bafc114fbb5",
        "outputId": "a7457ded-7b1b-43f2-9811-284f961adb8a"
      },
      "outputs": [
        {
          "output_type": "display_data",
          "data": {
            "text/plain": [
              "<Figure size 640x480 with 1 Axes>"
            ],
            "image/png": "[encoded data removed]"
          },
          "metadata": {}
        }
      ],
      "source": [
        "train_data['DATE'] = train_data['DATE'].str[:4]\n",
        "train_data[['DATE', 'CLASS']].groupby('CLASS').value_counts().nlargest(5).plot(kind='bar', legend=True, alpha=.5)\n",
        "plt.title(\"Top 5 Dates\")\n",
        "plt.show()"
      ]
    },
    {
      "cell_type": "markdown",
      "source": [
        "Check for missing data"
      ],
      "metadata": {
        "id": "JpkuX2d_R49f"
      },
      "id": "JpkuX2d_R49f"
    },
    {
      "cell_type": "code",
      "source": [
        "print(data.shape)\n",
        "print(data.isna().sum())"
      ],
      "metadata": {
        "colab": {
          "base_uri": "https://localhost:8080/"
        },
        "id": "04zlobhDR67j",
        "outputId": "1e48b14a-caee-4cab-fc83-756843f73ae5"
      },
      "id": "04zlobhDR67j",
      "execution_count": null,
      "outputs": [
        {
          "output_type": "stream",
          "name": "stdout",
          "text": [
            "(1956, 5)\n",
            "COMMENT_ID      0\n",
            "AUTHOR          0\n",
            "DATE          245\n",
            "CONTENT         0\n",
            "CLASS           0\n",
            "dtype: int64\n"
          ]
        }
      ]
    },
    {
      "cell_type": "markdown",
      "source": [
        "Replace na with blanks for date column if using it"
      ],
      "metadata": {
        "id": "Cw3y5EjUSFmC"
      },
      "id": "Cw3y5EjUSFmC"
    },
    {
      "cell_type": "code",
      "source": [
        "data = pd.read_csv(\"/content/drive/MyDrive/EC700/project/spam-data/Youtube.csv\")\n",
        "data['DATE'].loc[data['DATE'].isna()] = ''\n",
        "print('done')\n",
        "data.drop(columns=['AUTHOR', 'DATE'], inplace=True)"
      ],
      "metadata": {
        "id": "ncUT-YLBSE13",
        "colab": {
          "base_uri": "https://localhost:8080/"
        },
        "outputId": "50617e99-d9f8-4ff8-b040-12e8c12a71c0"
      },
      "id": "ncUT-YLBSE13",
      "execution_count": null,
      "outputs": [
        {
          "output_type": "stream",
          "name": "stdout",
          "text": [
            "done\n"
          ]
        },
        {
          "output_type": "stream",
          "name": "stderr",
          "text": [
            "<ipython-input-12-89e0606bba71>:2: SettingWithCopyWarning: \n",
            "A value is trying to be set on a copy of a slice from a DataFrame\n",
            "\n",
            "See the caveats in the documentation: https://pandas.pydata.org/pandas-docs/stable/user_guide/indexing.html#returning-a-view-versus-a-copy\n",
            "  data['DATE'].loc[data['DATE'].isna()] = ''\n"
          ]
        }
      ]
    },
    {
      "cell_type": "markdown",
      "source": [
        "Preprocess messages to extract features"
      ],
      "metadata": {
        "id": "wLM5AkWnhoKn"
      },
      "id": "wLM5AkWnhoKn"
    },
    {
      "cell_type": "code",
      "source": [
        "#Remove utf8 to latin1 enconsistencies\n",
        "import ftfy\n",
        "import emoji\n",
        "is_emoji = []\n",
        "for comment in data[\"CONTENT\"]:\n",
        "  comment = ftfy.fix_text(comment)\n",
        "  if emoji.emoji_count(comment) > 0:\n",
        "    is_emoji.append(True)\n",
        "  else:\n",
        "    is_emoji.append(False)\n",
        "data[\"IS_EMOJI\"] = is_emoji\n",
        "print(data[\"CONTENT\"])"
      ],
      "metadata": {
        "colab": {
          "base_uri": "https://localhost:8080/"
        },
        "id": "8xHucJS7hlh9",
        "outputId": "06d8d68b-235a-4ebd-f548-f3dfdacd95a4"
      },
      "id": "8xHucJS7hlh9",
      "execution_count": null,
      "outputs": [
        {
          "output_type": "stream",
          "name": "stdout",
          "text": [
            "0       Huh, anyway check out this you[tube] channel: ...\n",
            "1       Hey guys check out my new channel and our firs...\n",
            "2                  just for test I have to say murdev.com\n",
            "3        me shaking my sexy ass on my channel enjoy ^_^ ﻿\n",
            "4                 watch?v=vtaRGgvGtWQ   Check this out .﻿\n",
            "                              ...                        \n",
            "1951    I love this song because we sing it at Camp al...\n",
            "1952    I love this song for two reasons: 1.it is abou...\n",
            "1953                                                  wow\n",
            "1954                              Shakira u are so wiredo\n",
            "1955                           Shakira is the best dancer\n",
            "Name: CONTENT, Length: 1956, dtype: object\n"
          ]
        }
      ]
    },
    {
      "cell_type": "code",
      "source": [
        "#Check if spam has links\n",
        "data[\"IS_LINK\"] = data[\"CONTENT\"].str.contains('http://', regex=False)"
      ],
      "metadata": {
        "id": "i28KfqvGoL2d"
      },
      "id": "i28KfqvGoL2d",
      "execution_count": null,
      "outputs": []
    },
    {
      "cell_type": "code",
      "source": [
        "data"
      ],
      "metadata": {
        "colab": {
          "base_uri": "https://localhost:8080/",
          "height": 721
        },
        "id": "7ulX1gQOiiTA",
        "outputId": "a74f8052-af9a-4be1-e093-bd53e6e06fcc"
      },
      "id": "7ulX1gQOiiTA",
      "execution_count": null,
      "outputs": [
        {
          "output_type": "execute_result",
          "data": {
            "text/plain": [
              "                                       COMMENT_ID  \\\n",
              "0     LZQPQhLyRh80UYxNuaDWhIGQYNQ96IuCg-AYWqNPjpU   \n",
              "1     LZQPQhLyRh_C2cTtd9MvFRJedxydaVW-2sNg5Diuo4A   \n",
              "2     LZQPQhLyRh9MSZYnf8djyk0gEF9BHDPYrrK-qCczIY8   \n",
              "3             z13jhp0bxqncu512g22wvzkasxmvvzjaz04   \n",
              "4             z13fwbwp1oujthgqj04chlngpvzmtt3r3dw   \n",
              "...                                           ...   \n",
              "1951  _2viQ_Qnc6-bMSjqyL1NKj57ROicCSJV5SwTrw-RFFA   \n",
              "1952  _2viQ_Qnc6-pY-1yR6K2FhmC5i48-WuNx5CumlHLDAI   \n",
              "1953  _2viQ_Qnc6_k_n_Bse9zVhJP8tJReZpo8uM2uZfnzDs   \n",
              "1954  _2viQ_Qnc6_yBt8UGMWyg3vh0PulTqcqyQtdE7d4Fl0   \n",
              "1955  _2viQ_Qnc685RPw1aSa1tfrIuHXRvAQ2rPT9R06KTqA   \n",
              "\n",
              "                                                CONTENT  CLASS  IS_EMOJI  \\\n",
              "0     Huh, anyway check out this you[tube] channel: ...      1     False   \n",
              "1     Hey guys check out my new channel and our firs...      1     False   \n",
              "2                just for test I have to say murdev.com      1     False   \n",
              "3      me shaking my sexy ass on my channel enjoy ^_^ ﻿      1     False   \n",
              "4               watch?v=vtaRGgvGtWQ   Check this out .﻿      1     False   \n",
              "...                                                 ...    ...       ...   \n",
              "1951  I love this song because we sing it at Camp al...      0     False   \n",
              "1952  I love this song for two reasons: 1.it is abou...      0     False   \n",
              "1953                                                wow      0     False   \n",
              "1954                            Shakira u are so wiredo      0     False   \n",
              "1955                         Shakira is the best dancer      0     False   \n",
              "\n",
              "      IS_LINK  \n",
              "0       False  \n",
              "1       False  \n",
              "2       False  \n",
              "3       False  \n",
              "4       False  \n",
              "...       ...  \n",
              "1951    False  \n",
              "1952    False  \n",
              "1953    False  \n",
              "1954    False  \n",
              "1955    False  \n",
              "\n",
              "[1956 rows x 5 columns]"
            ],
            "text/html": [
              "\n",
              "  <div id=\"df-c04abe55-83e4-4655-85cc-a0d6dccb50c0\">\n",
              "    <div class=\"colab-df-container\">\n",
              "      <div>\n",
              "<style scoped>\n",
              "    .dataframe tbody tr th:only-of-type {\n",
              "        vertical-align: middle;\n",
              "    }\n",
              "\n",
              "    .dataframe tbody tr th {\n",
              "        vertical-align: top;\n",
              "    }\n",
              "\n",
              "    .dataframe thead th {\n",
              "        text-align: right;\n",
              "    }\n",
              "</style>\n",
              "<table border=\"1\" class=\"dataframe\">\n",
              "  <thead>\n",
              "    <tr style=\"text-align: right;\">\n",
              "      <th></th>\n",
              "      <th>COMMENT_ID</th>\n",
              "      <th>CONTENT</th>\n",
              "      <th>CLASS</th>\n",
              "      <th>IS_EMOJI</th>\n",
              "      <th>IS_LINK</th>\n",
              "    </tr>\n",
              "  </thead>\n",
              "  <tbody>\n",
              "    <tr>\n",
              "      <th>0</th>\n",
              "      <td>LZQPQhLyRh80UYxNuaDWhIGQYNQ96IuCg-AYWqNPjpU</td>\n",
              "      <td>Huh, anyway check out this you[tube] channel: ...</td>\n",
              "      <td>1</td>\n",
              "      <td>False</td>\n",
              "      <td>False</td>\n",
              "    </tr>\n",
              "    <tr>\n",
              "      <th>1</th>\n",
              "      <td>LZQPQhLyRh_C2cTtd9MvFRJedxydaVW-2sNg5Diuo4A</td>\n",
              "      <td>Hey guys check out my new channel and our firs...</td>\n",
              "      <td>1</td>\n",
              "      <td>False</td>\n",
              "      <td>False</td>\n",
              "    </tr>\n",
              "    <tr>\n",
              "      <th>2</th>\n",
              "      <td>LZQPQhLyRh9MSZYnf8djyk0gEF9BHDPYrrK-qCczIY8</td>\n",
              "      <td>just for test I have to say murdev.com</td>\n",
              "      <td>1</td>\n",
              "      <td>False</td>\n",
              "      <td>False</td>\n",
              "    </tr>\n",
              "    <tr>\n",
              "      <th>3</th>\n",
              "      <td>z13jhp0bxqncu512g22wvzkasxmvvzjaz04</td>\n",
              "      <td>me shaking my sexy ass on my channel enjoy ^_^ ﻿</td>\n",
              "      <td>1</td>\n",
              "      <td>False</td>\n",
              "      <td>False</td>\n",
              "    </tr>\n",
              "    <tr>\n",
              "      <th>4</th>\n",
              "      <td>z13fwbwp1oujthgqj04chlngpvzmtt3r3dw</td>\n",
              "      <td>watch?v=vtaRGgvGtWQ   Check this out .﻿</td>\n",
              "      <td>1</td>\n",
              "      <td>False</td>\n",
              "      <td>False</td>\n",
              "    </tr>\n",
              "    <tr>\n",
              "      <th>...</th>\n",
              "      <td>...</td>\n",
              "      <td>...</td>\n",
              "      <td>...</td>\n",
              "      <td>...</td>\n",
              "      <td>...</td>\n",
              "    </tr>\n",
              "    <tr>\n",
              "      <th>1951</th>\n",
              "      <td>_2viQ_Qnc6-bMSjqyL1NKj57ROicCSJV5SwTrw-RFFA</td>\n",
              "      <td>I love this song because we sing it at Camp al...</td>\n",
              "      <td>0</td>\n",
              "      <td>False</td>\n",
              "      <td>False</td>\n",
              "    </tr>\n",
              "    <tr>\n",
              "      <th>1952</th>\n",
              "      <td>_2viQ_Qnc6-pY-1yR6K2FhmC5i48-WuNx5CumlHLDAI</td>\n",
              "      <td>I love this song for two reasons: 1.it is abou...</td>\n",
              "      <td>0</td>\n",
              "      <td>False</td>\n",
              "      <td>False</td>\n",
              "    </tr>\n",
              "    <tr>\n",
              "      <th>1953</th>\n",
              "      <td>_2viQ_Qnc6_k_n_Bse9zVhJP8tJReZpo8uM2uZfnzDs</td>\n",
              "      <td>wow</td>\n",
              "      <td>0</td>\n",
              "      <td>False</td>\n",
              "      <td>False</td>\n",
              "    </tr>\n",
              "    <tr>\n",
              "      <th>1954</th>\n",
              "      <td>_2viQ_Qnc6_yBt8UGMWyg3vh0PulTqcqyQtdE7d4Fl0</td>\n",
              "      <td>Shakira u are so wiredo</td>\n",
              "      <td>0</td>\n",
              "      <td>False</td>\n",
              "      <td>False</td>\n",
              "    </tr>\n",
              "    <tr>\n",
              "      <th>1955</th>\n",
              "      <td>_2viQ_Qnc685RPw1aSa1tfrIuHXRvAQ2rPT9R06KTqA</td>\n",
              "      <td>Shakira is the best dancer</td>\n",
              "      <td>0</td>\n",
              "      <td>False</td>\n",
              "      <td>False</td>\n",
              "    </tr>\n",
              "  </tbody>\n",
              "</table>\n",
              "<p>1956 rows × 5 columns</p>\n",
              "</div>\n",
              "      <button class=\"colab-df-convert\" onclick=\"convertToInteractive('df-c04abe55-83e4-4655-85cc-a0d6dccb50c0')\"\n",
              "              title=\"Convert this dataframe to an interactive table.\"\n",
              "              style=\"display:none;\">\n",
              "        \n",
              "  <svg xmlns=\"http://www.w3.org/2000/svg\" height=\"24px\"viewBox=\"0 0 24 24\"\n",
              "       width=\"24px\">\n",
              "    <path d=\"M0 0h24v24H0V0z\" fill=\"none\"/>\n",
              "    <path d=\"M18.56 5.44l.94 2.06.94-2.06 2.06-.94-2.06-.94-.94-2.06-.94 2.06-2.06.94zm-11 1L8.5 8.5l.94-2.06 2.06-.94-2.06-.94L8.5 2.5l-.94 2.06-2.06.94zm10 10l.94 2.06.94-2.06 2.06-.94-2.06-.94-.94-2.06-.94 2.06-2.06.94z\"/><path d=\"M17.41 7.96l-1.37-1.37c-.4-.4-.92-.59-1.43-.59-.52 0-1.04.2-1.43.59L10.3 9.45l-7.72 7.72c-.78.78-.78 2.05 0 2.83L4 21.41c.39.39.9.59 1.41.59.51 0 1.02-.2 1.41-.59l7.78-7.78 2.81-2.81c.8-.78.8-2.07 0-2.86zM5.41 20L4 18.59l7.72-7.72 1.47 1.35L5.41 20z\"/>\n",
              "  </svg>\n",
              "      </button>\n",
              "      \n",
              "  <style>\n",
              "    .colab-df-container {\n",
              "      display:flex;\n",
              "      flex-wrap:wrap;\n",
              "      gap: 12px;\n",
              "    }\n",
              "\n",
              "    .colab-df-convert {\n",
              "      background-color: #E8F0FE;\n",
              "      border: none;\n",
              "      border-radius: 50%;\n",
              "      cursor: pointer;\n",
              "      display: none;\n",
              "      fill: #1967D2;\n",
              "      height: 32px;\n",
              "      padding: 0 0 0 0;\n",
              "      width: 32px;\n",
              "    }\n",
              "\n",
              "    .colab-df-convert:hover {\n",
              "      background-color: #E2EBFA;\n",
              "      box-shadow: 0px 1px 2px rgba(60, 64, 67, 0.3), 0px 1px 3px 1px rgba(60, 64, 67, 0.15);\n",
              "      fill: #174EA6;\n",
              "    }\n",
              "\n",
              "    [theme=dark] .colab-df-convert {\n",
              "      background-color: #3B4455;\n",
              "      fill: #D2E3FC;\n",
              "    }\n",
              "\n",
              "    [theme=dark] .colab-df-convert:hover {\n",
              "      background-color: #434B5C;\n",
              "      box-shadow: 0px 1px 3px 1px rgba(0, 0, 0, 0.15);\n",
              "      filter: drop-shadow(0px 1px 2px rgba(0, 0, 0, 0.3));\n",
              "      fill: #FFFFFF;\n",
              "    }\n",
              "  </style>\n",
              "\n",
              "      <script>\n",
              "        const buttonEl =\n",
              "          document.querySelector('#df-c04abe55-83e4-4655-85cc-a0d6dccb50c0 button.colab-df-convert');\n",
              "        buttonEl.style.display =\n",
              "          google.colab.kernel.accessAllowed ? 'block' : 'none';\n",
              "\n",
              "        async function convertToInteractive(key) {\n",
              "          const element = document.querySelector('#df-c04abe55-83e4-4655-85cc-a0d6dccb50c0');\n",
              "          const dataTable =\n",
              "            await google.colab.kernel.invokeFunction('convertToInteractive',\n",
              "                                                     [key], {});\n",
              "          if (!dataTable) return;\n",
              "\n",
              "          const docLinkHtml = 'Like what you see? Visit the ' +\n",
              "            '<a target=\"_blank\" href=https://colab.research.google.com/notebooks/data_table.ipynb>data table notebook</a>'\n",
              "            + ' to learn more about interactive tables.';\n",
              "          element.innerHTML = '';\n",
              "          dataTable['output_type'] = 'display_data';\n",
              "          await google.colab.output.renderOutput(dataTable, element);\n",
              "          const docLink = document.createElement('div');\n",
              "          docLink.innerHTML = docLinkHtml;\n",
              "          element.appendChild(docLink);\n",
              "        }\n",
              "      </script>\n",
              "    </div>\n",
              "  </div>\n",
              "  "
            ]
          },
          "metadata": {},
          "execution_count": 30
        }
      ]
    },
    {
      "cell_type": "code",
      "source": [
        "data_plot = data.loc[data['IS_EMOJI'].eq(True)]\n",
        "data_plot[['IS_EMOJI', 'CLASS']].groupby('CLASS').value_counts().plot(kind='bar', legend=True, alpha=.5)\n",
        "plt.title(\"Emoji Exploration\")\n",
        "plt.show()"
      ],
      "metadata": {
        "colab": {
          "base_uri": "https://localhost:8080/",
          "height": 516
        },
        "id": "5nAAHeYeDm64",
        "outputId": "fadc3b5d-9d79-4878-ec6b-e5aa53563d7c"
      },
      "id": "5nAAHeYeDm64",
      "execution_count": null,
      "outputs": [
        {
          "output_type": "display_data",
          "data": {
            "text/plain": [
              "<Figure size 640x480 with 1 Axes>"
            ],
            "image/png": "[encoded data removed]"
          },
          "metadata": {}
        }
      ]
    },
    {
      "cell_type": "code",
      "source": [
        "data_plot = data.loc[data['IS_LINK'].eq(True)]\n",
        "data_plot[['IS_LINK', 'CLASS']].groupby('CLASS').value_counts().plot(kind='bar', legend=True, alpha=.5)\n",
        "plt.title(\"Url Exploration\")\n",
        "plt.show()"
      ],
      "metadata": {
        "colab": {
          "base_uri": "https://localhost:8080/",
          "height": 516
        },
        "id": "Jf_Y_GSLoo99",
        "outputId": "6014b2cf-80c1-4f33-ed0f-ab73b1cafc25"
      },
      "id": "Jf_Y_GSLoo99",
      "execution_count": null,
      "outputs": [
        {
          "output_type": "display_data",
          "data": {
            "text/plain": [
              "<Figure size 640x480 with 1 Axes>"
            ],
            "image/png": "[encoded data removed]"
          },
          "metadata": {}
        }
      ]
    },
    {
      "cell_type": "code",
      "source": [
        "data.to_excel(\"/content/drive/MyDrive/EC700/project/spam-data/Youtube_edit.xlsx\", index=False)"
      ],
      "metadata": {
        "id": "eFwNuNVxugGO"
      },
      "id": "eFwNuNVxugGO",
      "execution_count": null,
      "outputs": []
    },
    {
      "cell_type": "markdown",
      "source": [
        "## Process Features"
      ],
      "metadata": {
        "id": "JYhlCqO7RRrx"
      },
      "id": "JYhlCqO7RRrx"
    },
    {
      "cell_type": "markdown",
      "source": [
        "### Split data"
      ],
      "metadata": {
        "id": "qniJkER0VvZq"
      },
      "id": "qniJkER0VvZq"
    },
    {
      "cell_type": "code",
      "source": [
        "X_train, X_test, Y_train, Y_test = train_test_split(data['CONTENT'], data['CLASS'], test_size=0.2, random_state=0)"
      ],
      "metadata": {
        "id": "xBVDDFpbVtn1"
      },
      "id": "xBVDDFpbVtn1",
      "execution_count": null,
      "outputs": []
    },
    {
      "cell_type": "code",
      "source": [
        "# # One hot encoding\n",
        "# from sklearn.preprocessing import OneHotEncoder\n",
        "# num_ids = OneHotEncoder(sparse_output=True).fit(data[['COMMENT_ID']]).transform(data[['COMMENT_ID']])"
      ],
      "metadata": {
        "id": "gUVI_r6NSxqw"
      },
      "id": "gUVI_r6NSxqw",
      "execution_count": null,
      "outputs": []
    },
    {
      "cell_type": "code",
      "source": [
        "#TF IDF\n",
        "from sklearn.feature_extraction.text import TfidfVectorizer\n",
        "\n",
        "vectorizer = TfidfVectorizer(input='content', analyzer='word', stop_words='english')\n",
        "text_train_matrix = vectorizer.fit_transform(X_train)\n",
        "text_test_matrix = vectorizer.transform(X_test)\n",
        "\n",
        "print('done')"
      ],
      "metadata": {
        "colab": {
          "base_uri": "https://localhost:8080/"
        },
        "id": "qcPYxOxZS3TM",
        "outputId": "b095a38c-2df5-441a-acd7-0d632fbd21b2"
      },
      "id": "qcPYxOxZS3TM",
      "execution_count": null,
      "outputs": [
        {
          "output_type": "stream",
          "name": "stdout",
          "text": [
            "done\n"
          ]
        }
      ]
    },
    {
      "cell_type": "markdown",
      "source": [
        "Do stuff"
      ],
      "metadata": {
        "id": "U2mPGQywRX_o"
      },
      "id": "U2mPGQywRX_o"
    },
    {
      "cell_type": "markdown",
      "source": [
        "## Create model"
      ],
      "metadata": {
        "id": "_ozbznfHRj7m"
      },
      "id": "_ozbznfHRj7m"
    },
    {
      "cell_type": "code",
      "source": [
        "from sklearn.naive_bayes import MultinomialNB\n",
        "# train the model\n",
        "model = MultinomialNB()\n",
        "model.fit(text_train_matrix, Y_train)"
      ],
      "metadata": {
        "colab": {
          "base_uri": "https://localhost:8080/",
          "height": 75
        },
        "id": "oqWvZLeIRdWD",
        "outputId": "edf567c5-1306-4176-a991-d41d610476e5"
      },
      "id": "oqWvZLeIRdWD",
      "execution_count": null,
      "outputs": [
        {
          "output_type": "execute_result",
          "data": {
            "text/plain": [
              "MultinomialNB()"
            ],
            "text/html": [
              "<style>#sk-container-id-1 {color: black;background-color: white;}#sk-container-id-1 pre{padding: 0;}#sk-container-id-1 div.sk-toggleable {background-color: white;}#sk-container-id-1 label.sk-toggleable__label {cursor: pointer;display: block;width: 100%;margin-bottom: 0;padding: 0.3em;box-sizing: border-box;text-align: center;}#sk-container-id-1 label.sk-toggleable__label-arrow:before {content: \"▸\";float: left;margin-right: 0.25em;color: #696969;}#sk-container-id-1 label.sk-toggleable__label-arrow:hover:before {color: black;}#sk-container-id-1 div.sk-estimator:hover label.sk-toggleable__label-arrow:before {color: black;}#sk-container-id-1 div.sk-toggleable__content {max-height: 0;max-width: 0;overflow: hidden;text-align: left;background-color: #f0f8ff;}#sk-container-id-1 div.sk-toggleable__content pre {margin: 0.2em;color: black;border-radius: 0.25em;background-color: #f0f8ff;}#sk-container-id-1 input.sk-toggleable__control:checked~div.sk-toggleable__content {max-height: 200px;max-width: 100%;overflow: auto;}#sk-container-id-1 input.sk-toggleable__control:checked~label.sk-toggleable__label-arrow:before {content: \"▾\";}#sk-container-id-1 div.sk-estimator input.sk-toggleable__control:checked~label.sk-toggleable__label {background-color: #d4ebff;}#sk-container-id-1 div.sk-label input.sk-toggleable__control:checked~label.sk-toggleable__label {background-color: #d4ebff;}#sk-container-id-1 input.sk-hidden--visually {border: 0;clip: rect(1px 1px 1px 1px);clip: rect(1px, 1px, 1px, 1px);height: 1px;margin: -1px;overflow: hidden;padding: 0;position: absolute;width: 1px;}#sk-container-id-1 div.sk-estimator {font-family: monospace;background-color: #f0f8ff;border: 1px dotted black;border-radius: 0.25em;box-sizing: border-box;margin-bottom: 0.5em;}#sk-container-id-1 div.sk-estimator:hover {background-color: #d4ebff;}#sk-container-id-1 div.sk-parallel-item::after {content: \"\";width: 100%;border-bottom: 1px solid gray;flex-grow: 1;}#sk-container-id-1 div.sk-label:hover label.sk-toggleable__label {background-color: #d4ebff;}#sk-container-id-1 div.sk-serial::before {content: \"\";position: absolute;border-left: 1px solid gray;box-sizing: border-box;top: 0;bottom: 0;left: 50%;z-index: 0;}#sk-container-id-1 div.sk-serial {display: flex;flex-direction: column;align-items: center;background-color: white;padding-right: 0.2em;padding-left: 0.2em;position: relative;}#sk-container-id-1 div.sk-item {position: relative;z-index: 1;}#sk-container-id-1 div.sk-parallel {display: flex;align-items: stretch;justify-content: center;background-color: white;position: relative;}#sk-container-id-1 div.sk-item::before, #sk-container-id-1 div.sk-parallel-item::before {content: \"\";position: absolute;border-left: 1px solid gray;box-sizing: border-box;top: 0;bottom: 0;left: 50%;z-index: -1;}#sk-container-id-1 div.sk-parallel-item {display: flex;flex-direction: column;z-index: 1;position: relative;background-color: white;}#sk-container-id-1 div.sk-parallel-item:first-child::after {align-self: flex-end;width: 50%;}#sk-container-id-1 div.sk-parallel-item:last-child::after {align-self: flex-start;width: 50%;}#sk-container-id-1 div.sk-parallel-item:only-child::after {width: 0;}#sk-container-id-1 div.sk-dashed-wrapped {border: 1px dashed gray;margin: 0 0.4em 0.5em 0.4em;box-sizing: border-box;padding-bottom: 0.4em;background-color: white;}#sk-container-id-1 div.sk-label label {font-family: monospace;font-weight: bold;display: inline-block;line-height: 1.2em;}#sk-container-id-1 div.sk-label-container {text-align: center;}#sk-container-id-1 div.sk-container {/* jupyter's `normalize.less` sets `[hidden] { display: none; }` but bootstrap.min.css set `[hidden] { display: none !important; }` so we also need the `!important` here to be able to override the default hidden behavior on the sphinx rendered scikit-learn.org. See: https://github.com/scikit-learn/scikit-learn/issues/21755 */display: inline-block !important;position: relative;}#sk-container-id-1 div.sk-text-repr-fallback {display: none;}</style><div id=\"sk-container-id-1\" class=\"sk-top-container\"><div class=\"sk-text-repr-fallback\"><pre>MultinomialNB()</pre><b>In a Jupyter environment, please rerun this cell to show the HTML representation or trust the notebook. <br />On GitHub, the HTML representation is unable to render, please try loading this page with nbviewer.org.</b></div><div class=\"sk-container\" hidden><div class=\"sk-item\"><div class=\"sk-estimator sk-toggleable\"><input class=\"sk-toggleable__control sk-hidden--visually\" id=\"sk-estimator-id-1\" type=\"checkbox\" checked><label for=\"sk-estimator-id-1\" class=\"sk-toggleable__label sk-toggleable__label-arrow\">MultinomialNB</label><div class=\"sk-toggleable__content\"><pre>MultinomialNB()</pre></div></div></div></div></div>"
            ]
          },
          "metadata": {},
          "execution_count": 20
        }
      ]
    },
    {
      "cell_type": "markdown",
      "source": [
        "### Test model"
      ],
      "metadata": {
        "id": "Fn2JZx7OWxWd"
      },
      "id": "Fn2JZx7OWxWd"
    },
    {
      "cell_type": "code",
      "source": [
        "print(\"classifier accuracy {:.2f}%\".format(model.score(text_test_matrix, Y_test) * 100))"
      ],
      "metadata": {
        "colab": {
          "base_uri": "https://localhost:8080/"
        },
        "id": "zE-CCu6qRgO2",
        "outputId": "e6e67b4d-1d9a-43bf-8edc-3a70771d0ffe"
      },
      "id": "zE-CCu6qRgO2",
      "execution_count": null,
      "outputs": [
        {
          "output_type": "stream",
          "name": "stdout",
          "text": [
            "classifier accuracy 88.78%\n"
          ]
        }
      ]
    },
    {
      "cell_type": "code",
      "source": [
        "labels = model.predict(text_test_matrix)\n",
        "from sklearn.metrics import f1_score\n",
        "from sklearn.metrics import confusion_matrix\n",
        "from sklearn.metrics import accuracy_score\n",
        "from sklearn.metrics import classification_report\n",
        "actual = Y_test.tolist()\n",
        "predicted = labels\n",
        "results = confusion_matrix(actual, predicted)\n",
        "print('Confusion Matrix :')\n",
        "print(results)\n",
        "print ('Accuracy Score :',accuracy_score(actual, predicted))\n",
        "print ('Report : ')\n",
        "print (classification_report(actual, predicted) )\n",
        "score_2 = f1_score(actual, predicted, average = 'binary')\n",
        "print('F-Measure: %.3f' % score_2)"
      ],
      "metadata": {
        "colab": {
          "base_uri": "https://localhost:8080/"
        },
        "id": "UJ1SafuYWzgL",
        "outputId": "19103f6a-6377-4e53-8b1d-833732611cd9"
      },
      "id": "UJ1SafuYWzgL",
      "execution_count": null,
      "outputs": [
        {
          "output_type": "stream",
          "name": "stdout",
          "text": [
            "Confusion Matrix :\n",
            "[[154  29]\n",
            " [ 15 194]]\n",
            "Accuracy Score : 0.8877551020408163\n",
            "Report : \n",
            "              precision    recall  f1-score   support\n",
            "\n",
            "           0       0.91      0.84      0.88       183\n",
            "           1       0.87      0.93      0.90       209\n",
            "\n",
            "    accuracy                           0.89       392\n",
            "   macro avg       0.89      0.88      0.89       392\n",
            "weighted avg       0.89      0.89      0.89       392\n",
            "\n",
            "F-Measure: 0.898\n"
          ]
        }
      ]
    },
    {
      "cell_type": "code",
      "source": [
        "#heatmap for confusion matrix\n",
        "import seaborn as sns\n",
        "import numpy as np\n",
        "group_names = ['True Neg','False Pos','False Neg','True Pos']\n",
        "group_counts = [\"{0:0.0f}\".format(value) for value in\n",
        "                results.flatten()]\n",
        "group_percentages = [\"{0:.2%}\".format(value) for value in\n",
        "                     results.flatten()/np.sum(results)]\n",
        "labels = [f\"{v1}\\n{v2}\\n{v3}\" for v1, v2, v3 in\n",
        "          zip(group_names,group_counts,group_percentages)]\n",
        "labels = np.asarray(labels).reshape(2,2)\n",
        "sns.heatmap(results, annot=labels, fmt='', cmap='Reds')"
      ],
      "metadata": {
        "colab": {
          "base_uri": "https://localhost:8080/",
          "height": 447
        },
        "id": "YIIW7vWHW1x4",
        "outputId": "cc1c301a-3f52-4a9e-f783-40c9b07e81fe"
      },
      "id": "YIIW7vWHW1x4",
      "execution_count": null,
      "outputs": [
        {
          "output_type": "execute_result",
          "data": {
            "text/plain": [
              "<Axes: >"
            ]
          },
          "metadata": {},
          "execution_count": 23
        },
        {
          "output_type": "display_data",
          "data": {
            "text/plain": [
              "<Figure size 640x480 with 2 Axes>"
            ],
            "image/png": "[encoded data removed]"
          },
          "metadata": {}
        }
      ]
    },
    {
      "cell_type": "code",
      "source": [
        "import statsmodels.api as sm\n",
        "import pandas as pd\n",
        "data = pd.read_excel(\"/content/drive/MyDrive/EC700/project/spam-data/Youtube_edit.xlsx\")\n",
        "y = data['CLASS']\n",
        "x = data[['IS_EMOJI', 'IS_LINK']]\n",
        "model = sm.OLS(y, x).fit()"
      ],
      "metadata": {
        "id": "RY-o8berdyjm"
      },
      "id": "RY-o8berdyjm",
      "execution_count": null,
      "outputs": []
    },
    {
      "cell_type": "code",
      "source": [
        "model.summary()"
      ],
      "metadata": {
        "colab": {
          "base_uri": "https://localhost:8080/",
          "height": 469
        },
        "id": "POZiyaFmfsdE",
        "outputId": "b9850e45-fb48-421b-a054-90c4b30bdc66"
      },
      "id": "POZiyaFmfsdE",
      "execution_count": null,
      "outputs": [
        {
          "output_type": "execute_result",
          "data": {
            "text/plain": [
              "<class 'statsmodels.iolib.summary.Summary'>\n",
              "\"\"\"\n",
              "                                 OLS Regression Results                                \n",
              "=======================================================================================\n",
              "Dep. Variable:                  CLASS   R-squared (uncentered):                   0.092\n",
              "Model:                            OLS   Adj. R-squared (uncentered):              0.091\n",
              "Method:                 Least Squares   F-statistic:                              98.64\n",
              "Date:                Fri, 05 May 2023   Prob (F-statistic):                    1.54e-41\n",
              "Time:                        02:36:21   Log-Likelihood:                         -2030.1\n",
              "No. Observations:                1956   AIC:                                      4064.\n",
              "Df Residuals:                    1954   BIC:                                      4075.\n",
              "Df Model:                           2                                                  \n",
              "Covariance Type:            nonrobust                                                  \n",
              "==============================================================================\n",
              "                 coef    std err          t      P>|t|      [0.025      0.975]\n",
              "------------------------------------------------------------------------------\n",
              "IS_EMOJI       0.2612      0.087      3.009      0.003       0.091       0.432\n",
              "IS_LINK        0.9017      0.066     13.642      0.000       0.772       1.031\n",
              "==============================================================================\n",
              "Omnibus:                     8741.453   Durbin-Watson:                   0.696\n",
              "Prob(Omnibus):                  0.000   Jarque-Bera (JB):              241.476\n",
              "Skew:                           0.043   Prob(JB):                     3.67e-53\n",
              "Kurtosis:                       1.281   Cond. No.                         1.32\n",
              "==============================================================================\n",
              "\n",
              "Notes:\n",
              "[1] R² is computed without centering (uncentered) since the model does not contain a constant.\n",
              "[2] Standard Errors assume that the covariance matrix of the errors is correctly specified.\n",
              "\"\"\""
            ],
            "text/html": [
              "<table class=\"simpletable\">\n",
              "<caption>OLS Regression Results</caption>\n",
              "<tr>\n",
              "  <th>Dep. Variable:</th>          <td>CLASS</td>      <th>  R-squared (uncentered):</th>      <td>   0.092</td>\n",
              "</tr>\n",
              "<tr>\n",
              "  <th>Model:</th>                   <td>OLS</td>       <th>  Adj. R-squared (uncentered):</th> <td>   0.091</td>\n",
              "</tr>\n",
              "<tr>\n",
              "  <th>Method:</th>             <td>Least Squares</td>  <th>  F-statistic:       </th>          <td>   98.64</td>\n",
              "</tr>\n",
              "<tr>\n",
              "  <th>Date:</th>             <td>Fri, 05 May 2023</td> <th>  Prob (F-statistic):</th>          <td>1.54e-41</td>\n",
              "</tr>\n",
              "<tr>\n",
              "  <th>Time:</th>                 <td>02:36:21</td>     <th>  Log-Likelihood:    </th>          <td> -2030.1</td>\n",
              "</tr>\n",
              "<tr>\n",
              "  <th>No. Observations:</th>      <td>  1956</td>      <th>  AIC:               </th>          <td>   4064.</td>\n",
              "</tr>\n",
              "<tr>\n",
              "  <th>Df Residuals:</th>          <td>  1954</td>      <th>  BIC:               </th>          <td>   4075.</td>\n",
              "</tr>\n",
              "<tr>\n",
              "  <th>Df Model:</th>              <td>     2</td>      <th>                     </th>              <td> </td>   \n",
              "</tr>\n",
              "<tr>\n",
              "  <th>Covariance Type:</th>      <td>nonrobust</td>    <th>                     </th>              <td> </td>   \n",
              "</tr>\n",
              "</table>\n",
              "<table class=\"simpletable\">\n",
              "<tr>\n",
              "      <td></td>        <th>coef</th>     <th>std err</th>      <th>t</th>      <th>P>|t|</th>  <th>[0.025</th>    <th>0.975]</th>  \n",
              "</tr>\n",
              "<tr>\n",
              "  <th>IS_EMOJI</th> <td>    0.2612</td> <td>    0.087</td> <td>    3.009</td> <td> 0.003</td> <td>    0.091</td> <td>    0.432</td>\n",
              "</tr>\n",
              "<tr>\n",
              "  <th>IS_LINK</th>  <td>    0.9017</td> <td>    0.066</td> <td>   13.642</td> <td> 0.000</td> <td>    0.772</td> <td>    1.031</td>\n",
              "</tr>\n",
              "</table>\n",
              "<table class=\"simpletable\">\n",
              "<tr>\n",
              "  <th>Omnibus:</th>       <td>8741.453</td> <th>  Durbin-Watson:     </th> <td>   0.696</td>\n",
              "</tr>\n",
              "<tr>\n",
              "  <th>Prob(Omnibus):</th>  <td> 0.000</td>  <th>  Jarque-Bera (JB):  </th> <td> 241.476</td>\n",
              "</tr>\n",
              "<tr>\n",
              "  <th>Skew:</th>           <td> 0.043</td>  <th>  Prob(JB):          </th> <td>3.67e-53</td>\n",
              "</tr>\n",
              "<tr>\n",
              "  <th>Kurtosis:</th>       <td> 1.281</td>  <th>  Cond. No.          </th> <td>    1.32</td>\n",
              "</tr>\n",
              "</table><br/><br/>Notes:<br/>[1] R² is computed without centering (uncentered) since the model does not contain a constant.<br/>[2] Standard Errors assume that the covariance matrix of the errors is correctly specified."
            ]
          },
          "metadata": {},
          "execution_count": 43
        }
      ]
    }
  ],
  "metadata": {
    "kernelspec": {
      "display_name": "Python 3 (ipykernel)",
      "language": "python",
      "name": "python3"
    },
    "language_info": {
      "codemirror_mode": {
        "name": "ipython",
        "version": 3
      },
      "file_extension": ".py",
      "mimetype": "text/x-python",
      "name": "python",
      "nbconvert_exporter": "python",
      "pygments_lexer": "ipython3",
      "version": "3.10.7"
    },
    "colab": {
      "provenance": []
    }
  },
  "nbformat": 4,
  "nbformat_minor": 5
}